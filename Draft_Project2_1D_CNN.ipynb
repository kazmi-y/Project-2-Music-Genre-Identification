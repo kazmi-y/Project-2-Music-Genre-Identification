{
 "cells": [
  {
   "cell_type": "code",
   "execution_count": 1,
   "id": "64ae761c-c49f-4dc7-889e-4052bcc78921",
   "metadata": {},
   "outputs": [
    {
     "name": "stdout",
     "output_type": "stream",
     "text": [
      "Requirement already satisfied: librosa in c:\\users\\yasi kasmi\\anaconda3\\envs\\tf-gpu-clean\\lib\\site-packages (0.11.0)\n",
      "Requirement already satisfied: pandas in c:\\users\\yasi kasmi\\anaconda3\\envs\\tf-gpu-clean\\lib\\site-packages (2.3.0)\n",
      "Requirement already satisfied: matplotlib in c:\\users\\yasi kasmi\\anaconda3\\envs\\tf-gpu-clean\\lib\\site-packages (3.10.3)\n",
      "Requirement already satisfied: scikit-learn in c:\\users\\yasi kasmi\\anaconda3\\envs\\tf-gpu-clean\\lib\\site-packages (1.7.0)\n",
      "Requirement already satisfied: tqdm in c:\\users\\yasi kasmi\\anaconda3\\envs\\tf-gpu-clean\\lib\\site-packages (4.67.1)\n",
      "Requirement already satisfied: audioread>=2.1.9 in c:\\users\\yasi kasmi\\anaconda3\\envs\\tf-gpu-clean\\lib\\site-packages (from librosa) (3.0.1)\n",
      "Requirement already satisfied: numba>=0.51.0 in c:\\users\\yasi kasmi\\anaconda3\\envs\\tf-gpu-clean\\lib\\site-packages (from librosa) (0.61.2)\n",
      "Requirement already satisfied: numpy>=1.22.3 in c:\\users\\yasi kasmi\\anaconda3\\envs\\tf-gpu-clean\\lib\\site-packages (from librosa) (1.26.4)\n",
      "Requirement already satisfied: scipy>=1.6.0 in c:\\users\\yasi kasmi\\anaconda3\\envs\\tf-gpu-clean\\lib\\site-packages (from librosa) (1.15.3)\n",
      "Requirement already satisfied: joblib>=1.0 in c:\\users\\yasi kasmi\\anaconda3\\envs\\tf-gpu-clean\\lib\\site-packages (from librosa) (1.5.1)\n",
      "Requirement already satisfied: decorator>=4.3.0 in c:\\users\\yasi kasmi\\anaconda3\\envs\\tf-gpu-clean\\lib\\site-packages (from librosa) (5.2.1)\n",
      "Requirement already satisfied: soundfile>=0.12.1 in c:\\users\\yasi kasmi\\anaconda3\\envs\\tf-gpu-clean\\lib\\site-packages (from librosa) (0.13.1)\n",
      "Requirement already satisfied: pooch>=1.1 in c:\\users\\yasi kasmi\\anaconda3\\envs\\tf-gpu-clean\\lib\\site-packages (from librosa) (1.8.2)\n",
      "Requirement already satisfied: soxr>=0.3.2 in c:\\users\\yasi kasmi\\anaconda3\\envs\\tf-gpu-clean\\lib\\site-packages (from librosa) (0.5.0.post1)\n",
      "Requirement already satisfied: typing_extensions>=4.1.1 in c:\\users\\yasi kasmi\\anaconda3\\envs\\tf-gpu-clean\\lib\\site-packages (from librosa) (4.14.0)\n",
      "Requirement already satisfied: lazy_loader>=0.1 in c:\\users\\yasi kasmi\\anaconda3\\envs\\tf-gpu-clean\\lib\\site-packages (from librosa) (0.4)\n",
      "Requirement already satisfied: msgpack>=1.0 in c:\\users\\yasi kasmi\\anaconda3\\envs\\tf-gpu-clean\\lib\\site-packages (from librosa) (1.1.1)\n",
      "Requirement already satisfied: python-dateutil>=2.8.2 in c:\\users\\yasi kasmi\\anaconda3\\envs\\tf-gpu-clean\\lib\\site-packages (from pandas) (2.9.0.post0)\n",
      "Requirement already satisfied: pytz>=2020.1 in c:\\users\\yasi kasmi\\anaconda3\\envs\\tf-gpu-clean\\lib\\site-packages (from pandas) (2025.2)\n",
      "Requirement already satisfied: tzdata>=2022.7 in c:\\users\\yasi kasmi\\anaconda3\\envs\\tf-gpu-clean\\lib\\site-packages (from pandas) (2025.2)\n",
      "Requirement already satisfied: contourpy>=1.0.1 in c:\\users\\yasi kasmi\\anaconda3\\envs\\tf-gpu-clean\\lib\\site-packages (from matplotlib) (1.3.2)\n",
      "Requirement already satisfied: cycler>=0.10 in c:\\users\\yasi kasmi\\anaconda3\\envs\\tf-gpu-clean\\lib\\site-packages (from matplotlib) (0.12.1)\n",
      "Requirement already satisfied: fonttools>=4.22.0 in c:\\users\\yasi kasmi\\anaconda3\\envs\\tf-gpu-clean\\lib\\site-packages (from matplotlib) (4.58.4)\n",
      "Requirement already satisfied: kiwisolver>=1.3.1 in c:\\users\\yasi kasmi\\anaconda3\\envs\\tf-gpu-clean\\lib\\site-packages (from matplotlib) (1.4.8)\n",
      "Requirement already satisfied: packaging>=20.0 in c:\\users\\yasi kasmi\\anaconda3\\envs\\tf-gpu-clean\\lib\\site-packages (from matplotlib) (25.0)\n",
      "Requirement already satisfied: pillow>=8 in c:\\users\\yasi kasmi\\anaconda3\\envs\\tf-gpu-clean\\lib\\site-packages (from matplotlib) (11.2.1)\n",
      "Requirement already satisfied: pyparsing>=2.3.1 in c:\\users\\yasi kasmi\\anaconda3\\envs\\tf-gpu-clean\\lib\\site-packages (from matplotlib) (3.2.3)\n",
      "Requirement already satisfied: threadpoolctl>=3.1.0 in c:\\users\\yasi kasmi\\anaconda3\\envs\\tf-gpu-clean\\lib\\site-packages (from scikit-learn) (3.6.0)\n",
      "Requirement already satisfied: colorama in c:\\users\\yasi kasmi\\anaconda3\\envs\\tf-gpu-clean\\lib\\site-packages (from tqdm) (0.4.6)\n",
      "Requirement already satisfied: llvmlite<0.45,>=0.44.0dev0 in c:\\users\\yasi kasmi\\anaconda3\\envs\\tf-gpu-clean\\lib\\site-packages (from numba>=0.51.0->librosa) (0.44.0)\n",
      "Requirement already satisfied: platformdirs>=2.5.0 in c:\\users\\yasi kasmi\\anaconda3\\envs\\tf-gpu-clean\\lib\\site-packages (from pooch>=1.1->librosa) (4.3.8)\n",
      "Requirement already satisfied: requests>=2.19.0 in c:\\users\\yasi kasmi\\anaconda3\\envs\\tf-gpu-clean\\lib\\site-packages (from pooch>=1.1->librosa) (2.32.4)\n",
      "Requirement already satisfied: six>=1.5 in c:\\users\\yasi kasmi\\anaconda3\\envs\\tf-gpu-clean\\lib\\site-packages (from python-dateutil>=2.8.2->pandas) (1.17.0)\n",
      "Requirement already satisfied: charset_normalizer<4,>=2 in c:\\users\\yasi kasmi\\anaconda3\\envs\\tf-gpu-clean\\lib\\site-packages (from requests>=2.19.0->pooch>=1.1->librosa) (3.4.2)\n",
      "Requirement already satisfied: idna<4,>=2.5 in c:\\users\\yasi kasmi\\anaconda3\\envs\\tf-gpu-clean\\lib\\site-packages (from requests>=2.19.0->pooch>=1.1->librosa) (3.10)\n",
      "Requirement already satisfied: urllib3<3,>=1.21.1 in c:\\users\\yasi kasmi\\anaconda3\\envs\\tf-gpu-clean\\lib\\site-packages (from requests>=2.19.0->pooch>=1.1->librosa) (2.5.0)\n",
      "Requirement already satisfied: certifi>=2017.4.17 in c:\\users\\yasi kasmi\\anaconda3\\envs\\tf-gpu-clean\\lib\\site-packages (from requests>=2.19.0->pooch>=1.1->librosa) (2025.6.15)\n",
      "Requirement already satisfied: cffi>=1.0 in c:\\users\\yasi kasmi\\anaconda3\\envs\\tf-gpu-clean\\lib\\site-packages (from soundfile>=0.12.1->librosa) (1.17.1)\n",
      "Requirement already satisfied: pycparser in c:\\users\\yasi kasmi\\anaconda3\\envs\\tf-gpu-clean\\lib\\site-packages (from cffi>=1.0->soundfile>=0.12.1->librosa) (2.22)\n"
     ]
    }
   ],
   "source": [
    "!pip install librosa pandas matplotlib scikit-learn tqdm"
   ]
  },
  {
   "cell_type": "code",
   "execution_count": 2,
   "id": "ea4824b4-8b06-47a0-b9e6-5add98383d18",
   "metadata": {},
   "outputs": [
    {
     "name": "stdout",
     "output_type": "stream",
     "text": [
      "GPU Available: [PhysicalDevice(name='/physical_device:GPU:0', device_type='GPU')]\n"
     ]
    }
   ],
   "source": [
    "import os\n",
    "import numpy as np\n",
    "import librosa\n",
    "import pandas as pd\n",
    "from tqdm import tqdm\n",
    "from sklearn.model_selection import train_test_split\n",
    "from sklearn.preprocessing import LabelEncoder\n",
    "from tensorflow.keras import layers, models, utils, callbacks\n",
    "import tensorflow as tf\n",
    "\n",
    "# Verify GPU availability\n",
    "print(\"GPU Available:\", tf.config.list_physical_devices('GPU'))\n"
   ]
  },
  {
   "cell_type": "code",
   "execution_count": 22,
   "id": "193370c5-b677-4a21-8e21-213d57b4216b",
   "metadata": {},
   "outputs": [],
   "source": [
    "DATA_PATH = r\"F:\\Firefox downloader\\Projects\\Project 2 - Music Genre Indentification\\genres\"\n",
    "SAMPLE_RATE = 22050\n",
    "DURATION = 5  # Seconds per segment\n",
    "AUDIO_LENGTH = SAMPLE_RATE * DURATION  # 66150 samples\n",
    "N_CLASSES = 10  # 10 music genres\n",
    "BATCH_SIZE = 32\n",
    "EPOCHS = 50\n"
   ]
  },
  {
   "cell_type": "code",
   "execution_count": 23,
   "id": "4adce6bb-f4f7-437f-b250-d01e9853ec7d",
   "metadata": {},
   "outputs": [
    {
     "name": "stdout",
     "output_type": "stream",
     "text": [
      "Processing audio files...\n"
     ]
    },
    {
     "name": "stderr",
     "output_type": "stream",
     "text": [
      "blues: 100%|███████████████████████████████████████████████████████████████████████| 100/100 [00:00<00:00, 1063.55it/s]\n",
      "classical: 100%|███████████████████████████████████████████████████████████████████| 100/100 [00:00<00:00, 1086.64it/s]\n",
      "country: 100%|█████████████████████████████████████████████████████████████████████| 100/100 [00:00<00:00, 1030.17it/s]\n",
      "disco: 100%|████████████████████████████████████████████████████████████████████████| 100/100 [00:00<00:00, 943.07it/s]\n",
      "hiphop: 100%|███████████████████████████████████████████████████████████████████████| 100/100 [00:00<00:00, 963.21it/s]\n",
      "jazz: 100%|█████████████████████████████████████████████████████████████████████████| 100/100 [00:00<00:00, 980.17it/s]\n",
      "metal: 100%|████████████████████████████████████████████████████████████████████████| 100/100 [00:00<00:00, 970.65it/s]\n",
      "pop: 100%|██████████████████████████████████████████████████████████████████████████| 100/100 [00:00<00:00, 925.56it/s]\n",
      "reggae: 100%|███████████████████████████████████████████████████████████████████████| 100/100 [00:00<00:00, 952.17it/s]\n",
      "rock: 100%|█████████████████████████████████████████████████████████████████████████| 100/100 [00:00<00:00, 970.64it/s]\n"
     ]
    },
    {
     "name": "stdout",
     "output_type": "stream",
     "text": [
      "Dataset shape: (1000, 110250)\n"
     ]
    }
   ],
   "source": [
    "def prepare_dataset(data_path):\n",
    "    genres = [d for d in os.listdir(data_path) \n",
    "             if os.path.isdir(os.path.join(data_path, d))]\n",
    "    \n",
    "    features = []\n",
    "    labels = []\n",
    "    \n",
    "    print(\"Processing audio files...\")\n",
    "    for genre in genres:\n",
    "        genre_path = os.path.join(data_path, genre)\n",
    "        files = [os.path.join(genre_path, f) for f in os.listdir(genre_path) \n",
    "                if f.endswith('.au')]\n",
    "        \n",
    "        for file in tqdm(files, desc=genre):\n",
    "            try:\n",
    "                # Load and preprocess audio\n",
    "                y, sr = librosa.load(file, sr=SAMPLE_RATE, duration=DURATION, mono=True)\n",
    "                \n",
    "                # Pad/truncate to fixed length\n",
    "                if len(y) < AUDIO_LENGTH:\n",
    "                    y = np.pad(y, (0, AUDIO_LENGTH - len(y)))\n",
    "                else:\n",
    "                    y = y[:AUDIO_LENGTH]\n",
    "                \n",
    "                # Normalize audio\n",
    "                y = (y - np.mean(y)) / np.std(y)\n",
    "                features.append(y)\n",
    "                labels.append(genre)\n",
    "                \n",
    "            except Exception as e:\n",
    "                print(f\"Error processing {file}: {str(e)}\")\n",
    "    \n",
    "    return np.array(features), np.array(labels)\n",
    "\n",
    "# Load and prepare data\n",
    "X, y = prepare_dataset(DATA_PATH)\n",
    "print(f\"Dataset shape: {X.shape}\")\n",
    "\n",
    "# Encode labels\n",
    "le = LabelEncoder()\n",
    "y_encoded = le.fit_transform(y)\n",
    "y_categorical = utils.to_categorical(y_encoded, num_classes=N_CLASSES)\n"
   ]
  },
  {
   "cell_type": "code",
   "execution_count": 24,
   "id": "dac4b093-0095-4479-b8b8-0041ffb934f5",
   "metadata": {},
   "outputs": [
    {
     "name": "stdout",
     "output_type": "stream",
     "text": [
      "Train shape: (800, 110250), Validation shape: (200, 110250)\n"
     ]
    }
   ],
   "source": [
    "X_train, X_val, y_train, y_val = train_test_split(\n",
    "    X, y_categorical, test_size=0.2, stratify=y_encoded, random_state=42\n",
    ")\n",
    "print(f\"Train shape: {X_train.shape}, Validation shape: {X_val.shape}\")\n",
    "\n",
    "# Add channel dimension (1D CNN expects [samples, steps, channels])\n",
    "X_train = X_train[..., np.newaxis]\n",
    "X_val = X_val[..., np.newaxis]\n"
   ]
  },
  {
   "cell_type": "code",
   "execution_count": 25,
   "id": "fc0c115d-1828-44e4-891c-1e0c7af172fa",
   "metadata": {},
   "outputs": [
    {
     "name": "stdout",
     "output_type": "stream",
     "text": [
      "Model: \"sequential_3\"\n",
      "_________________________________________________________________\n",
      " Layer (type)                Output Shape              Param #   \n",
      "=================================================================\n",
      " conv1d_12 (Conv1D)          (None, 27563, 128)        10368     \n",
      "                                                                 \n",
      " batch_normalization_12 (Bat  (None, 27563, 128)       512       \n",
      " chNormalization)                                                \n",
      "                                                                 \n",
      " max_pooling1d_12 (MaxPoolin  (None, 6890, 128)        0         \n",
      " g1D)                                                            \n",
      "                                                                 \n",
      " conv1d_13 (Conv1D)          (None, 6890, 128)         49280     \n",
      "                                                                 \n",
      " batch_normalization_13 (Bat  (None, 6890, 128)        512       \n",
      " chNormalization)                                                \n",
      "                                                                 \n",
      " max_pooling1d_13 (MaxPoolin  (None, 1722, 128)        0         \n",
      " g1D)                                                            \n",
      "                                                                 \n",
      " conv1d_14 (Conv1D)          (None, 1722, 256)         98560     \n",
      "                                                                 \n",
      " batch_normalization_14 (Bat  (None, 1722, 256)        1024      \n",
      " chNormalization)                                                \n",
      "                                                                 \n",
      " max_pooling1d_14 (MaxPoolin  (None, 430, 256)         0         \n",
      " g1D)                                                            \n",
      "                                                                 \n",
      " conv1d_15 (Conv1D)          (None, 430, 512)          393728    \n",
      "                                                                 \n",
      " batch_normalization_15 (Bat  (None, 430, 512)         2048      \n",
      " chNormalization)                                                \n",
      "                                                                 \n",
      " max_pooling1d_15 (MaxPoolin  (None, 107, 512)         0         \n",
      " g1D)                                                            \n",
      "                                                                 \n",
      " global_average_pooling1d_3   (None, 512)              0         \n",
      " (GlobalAveragePooling1D)                                        \n",
      "                                                                 \n",
      " dense_6 (Dense)             (None, 256)               131328    \n",
      "                                                                 \n",
      " dropout_3 (Dropout)         (None, 256)               0         \n",
      "                                                                 \n",
      " dense_7 (Dense)             (None, 10)                2570      \n",
      "                                                                 \n",
      "=================================================================\n",
      "Total params: 689,930\n",
      "Trainable params: 687,882\n",
      "Non-trainable params: 2,048\n",
      "_________________________________________________________________\n"
     ]
    }
   ],
   "source": [
    "def build_m5_model(input_shape, num_classes):\n",
    "    model = models.Sequential([\n",
    "        layers.Conv1D(128, 80, strides=4, padding='same', \n",
    "                      input_shape=input_shape, activation='relu'),\n",
    "        layers.BatchNormalization(),\n",
    "        layers.MaxPooling1D(4),\n",
    "        \n",
    "        layers.Conv1D(128, 3, strides=1, padding='same', activation='relu'),\n",
    "        layers.BatchNormalization(),\n",
    "        layers.MaxPooling1D(4),\n",
    "        \n",
    "        layers.Conv1D(256, 3, strides=1, padding='same', activation='relu'),\n",
    "        layers.BatchNormalization(),\n",
    "        layers.MaxPooling1D(4),\n",
    "        \n",
    "        layers.Conv1D(512, 3, strides=1, padding='same', activation='relu'),\n",
    "        layers.BatchNormalization(),\n",
    "        layers.MaxPooling1D(4),\n",
    "        \n",
    "        layers.GlobalAveragePooling1D(),\n",
    "        layers.Dense(256, activation='relu'),\n",
    "        layers.Dropout(0.5),\n",
    "        layers.Dense(num_classes, activation='softmax')\n",
    "    ])\n",
    "    \n",
    "    model.compile(optimizer='adam',\n",
    "                 loss='categorical_crossentropy',\n",
    "                 metrics=['accuracy'])\n",
    "    return model\n",
    "\n",
    "# Build model\n",
    "input_shape = (AUDIO_LENGTH, 1)\n",
    "model = build_m5_model(input_shape, N_CLASSES)\n",
    "model.summary()\n"
   ]
  },
  {
   "cell_type": "code",
   "execution_count": 26,
   "id": "bf706cb6-0015-476a-b692-aabc01831966",
   "metadata": {},
   "outputs": [
    {
     "name": "stdout",
     "output_type": "stream",
     "text": [
      "Epoch 1/50\n",
      "25/25 [==============================] - 6s 189ms/step - loss: 2.1133 - accuracy: 0.2550 - val_loss: 2.1582 - val_accuracy: 0.2500 - lr: 0.0010\n",
      "Epoch 2/50\n",
      "25/25 [==============================] - 4s 176ms/step - loss: 1.7196 - accuracy: 0.3938 - val_loss: 2.4946 - val_accuracy: 0.1650 - lr: 0.0010\n",
      "Epoch 3/50\n",
      "25/25 [==============================] - 4s 176ms/step - loss: 1.6173 - accuracy: 0.4212 - val_loss: 3.2677 - val_accuracy: 0.1550 - lr: 0.0010\n",
      "Epoch 4/50\n",
      "25/25 [==============================] - 4s 176ms/step - loss: 1.4557 - accuracy: 0.4550 - val_loss: 4.3862 - val_accuracy: 0.1350 - lr: 0.0010\n",
      "Epoch 5/50\n",
      "25/25 [==============================] - 4s 176ms/step - loss: 1.3509 - accuracy: 0.5125 - val_loss: 5.0554 - val_accuracy: 0.1200 - lr: 2.0000e-04\n",
      "Epoch 6/50\n",
      "25/25 [==============================] - 4s 177ms/step - loss: 1.2447 - accuracy: 0.5688 - val_loss: 5.2084 - val_accuracy: 0.1550 - lr: 2.0000e-04\n",
      "Epoch 7/50\n",
      "25/25 [==============================] - 4s 176ms/step - loss: 1.2089 - accuracy: 0.5775 - val_loss: 5.5047 - val_accuracy: 0.1550 - lr: 2.0000e-04\n",
      "Epoch 8/50\n",
      "25/25 [==============================] - 4s 176ms/step - loss: 1.1368 - accuracy: 0.6137 - val_loss: 5.4700 - val_accuracy: 0.1600 - lr: 4.0000e-05\n",
      "Epoch 9/50\n",
      "25/25 [==============================] - 4s 177ms/step - loss: 1.1439 - accuracy: 0.6037 - val_loss: 5.2971 - val_accuracy: 0.1700 - lr: 4.0000e-05\n",
      "Epoch 10/50\n",
      "25/25 [==============================] - 4s 177ms/step - loss: 1.1290 - accuracy: 0.6050 - val_loss: 5.1489 - val_accuracy: 0.1750 - lr: 4.0000e-05\n",
      "Epoch 11/50\n",
      "25/25 [==============================] - 4s 177ms/step - loss: 1.1429 - accuracy: 0.5888 - val_loss: 4.7762 - val_accuracy: 0.1750 - lr: 8.0000e-06\n"
     ]
    }
   ],
   "source": [
    "from tensorflow.keras.callbacks import EarlyStopping, ReduceLROnPlateau, ModelCheckpoint\n",
    "\n",
    "# Create callback list with proper naming\n",
    "callback_list = [\n",
    "    EarlyStopping(patience=10, restore_best_weights=True),\n",
    "    ReduceLROnPlateau(factor=0.2, patience=3),\n",
    "    ModelCheckpoint(\"best_model.h5\", save_best_only=True)\n",
    "]\n",
    "\n",
    "history = model.fit(\n",
    "    X_train, y_train,\n",
    "    validation_data=(X_val, y_val),\n",
    "    epochs=EPOCHS,\n",
    "    batch_size=BATCH_SIZE,\n",
    "    callbacks=callbacks\n",
    ")\n"
   ]
  },
  {
   "cell_type": "code",
   "execution_count": 27,
   "id": "85cf38b0-b255-4a78-96d8-d9c2ad994d43",
   "metadata": {},
   "outputs": [
    {
     "data": {
      "image/png": "[encoded data removed]",
      "text/plain": [
       "<Figure size 1200x500 with 2 Axes>"
      ]
     },
     "metadata": {},
     "output_type": "display_data"
    },
    {
     "name": "stdout",
     "output_type": "stream",
     "text": [
      "7/7 [==============================] - 0s 47ms/step - loss: 2.1566 - accuracy: 0.2700\n",
      "Test Accuracy: 0.2700\n"
     ]
    }
   ],
   "source": [
    "import matplotlib.pyplot as plt\n",
    "\n",
    "# Plot training history\n",
    "plt.figure(figsize=(12, 5))\n",
    "plt.subplot(1, 2, 1)\n",
    "plt.plot(history.history['accuracy'], label='Train')\n",
    "plt.plot(history.history['val_accuracy'], label='Validation')\n",
    "plt.title('Model Accuracy')\n",
    "plt.legend()\n",
    "\n",
    "plt.subplot(1, 2, 2)\n",
    "plt.plot(history.history['loss'], label='Train')\n",
    "plt.plot(history.history['val_loss'], label='Validation')\n",
    "plt.title('Model Loss')\n",
    "plt.legend()\n",
    "plt.show()\n",
    "\n",
    "# Load best model for evaluation\n",
    "model.load_weights(\"best_model.h5\")\n",
    "test_loss, test_acc = model.evaluate(X_val, y_val)\n",
    "print(f\"Test Accuracy: {test_acc:.4f}\")\n"
   ]
  },
  {
   "cell_type": "code",
   "execution_count": 28,
   "id": "d9a63bc1-23bc-4f4a-9f72-d9936e92a001",
   "metadata": {},
   "outputs": [
    {
     "name": "stdout",
     "output_type": "stream",
     "text": [
      "7/7 [==============================] - 0s 50ms/step\n",
      "              precision    recall  f1-score   support\n",
      "\n",
      "       blues       0.00      0.00      0.00        20\n",
      "   classical       0.45      0.65      0.53        20\n",
      "     country       0.00      0.00      0.00        20\n",
      "       disco       0.33      0.05      0.09        20\n",
      "      hiphop       0.19      0.15      0.17        20\n",
      "        jazz       0.25      0.40      0.31        20\n",
      "       metal       0.35      0.75      0.48        20\n",
      "         pop       0.20      0.70      0.31        20\n",
      "      reggae       0.00      0.00      0.00        20\n",
      "        rock       0.00      0.00      0.00        20\n",
      "\n",
      "    accuracy                           0.27       200\n",
      "   macro avg       0.18      0.27      0.19       200\n",
      "weighted avg       0.18      0.27      0.19       200\n",
      "\n"
     ]
    },
    {
     "name": "stderr",
     "output_type": "stream",
     "text": [
      "C:\\Users\\Yasi Kasmi\\anaconda3\\envs\\tf-gpu-clean\\lib\\site-packages\\sklearn\\metrics\\_classification.py:1706: UndefinedMetricWarning: Precision is ill-defined and being set to 0.0 in labels with no predicted samples. Use `zero_division` parameter to control this behavior.\n",
      "  _warn_prf(average, modifier, f\"{metric.capitalize()} is\", result.shape[0])\n",
      "C:\\Users\\Yasi Kasmi\\anaconda3\\envs\\tf-gpu-clean\\lib\\site-packages\\sklearn\\metrics\\_classification.py:1706: UndefinedMetricWarning: Precision is ill-defined and being set to 0.0 in labels with no predicted samples. Use `zero_division` parameter to control this behavior.\n",
      "  _warn_prf(average, modifier, f\"{metric.capitalize()} is\", result.shape[0])\n",
      "C:\\Users\\Yasi Kasmi\\anaconda3\\envs\\tf-gpu-clean\\lib\\site-packages\\sklearn\\metrics\\_classification.py:1706: UndefinedMetricWarning: Precision is ill-defined and being set to 0.0 in labels with no predicted samples. Use `zero_division` parameter to control this behavior.\n",
      "  _warn_prf(average, modifier, f\"{metric.capitalize()} is\", result.shape[0])\n"
     ]
    }
   ],
   "source": [
    "from sklearn.metrics import classification_report\n",
    "\n",
    "y_pred = model.predict(X_val)\n",
    "y_pred_classes = np.argmax(y_pred, axis=1)\n",
    "y_true_classes = np.argmax(y_val, axis=1)\n",
    "\n",
    "print(classification_report(\n",
    "    y_true_classes, y_pred_classes,\n",
    "    target_names=le.classes_\n",
    "))\n"
   ]
  },
  {
   "cell_type": "code",
   "execution_count": null,
   "id": "12999aba-d42f-453d-9aa8-e29335e79846",
   "metadata": {},
   "outputs": [],
   "source": []
  }
 ],
 "metadata": {
  "kernelspec": {
   "display_name": "Python (tf-gpu-clean)",
   "language": "python",
   "name": "tf-gpu-clean"
  },
  "language_info": {
   "codemirror_mode": {
    "name": "ipython",
    "version": 3
   },
   "file_extension": ".py",
   "mimetype": "text/x-python",
   "name": "python",
   "nbconvert_exporter": "python",
   "pygments_lexer": "ipython3",
   "version": "3.10.18"
  }
 },
 "nbformat": 4,
 "nbformat_minor": 5
}
