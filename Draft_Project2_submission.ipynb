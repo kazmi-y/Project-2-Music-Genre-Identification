{
 "cells": [
  {
   "cell_type": "code",
   "execution_count": 17,
   "id": "35fb339d-f213-4efb-b9ab-17f9ddb07ec7",
   "metadata": {
    "scrolled": true
   },
   "outputs": [
    {
     "name": "stdout",
     "output_type": "stream",
     "text": [
      "Collecting numpy\n",
      "  Using cached numpy-2.2.6-cp310-cp310-win_amd64.whl.metadata (60 kB)\n",
      "Requirement already satisfied: pandas in c:\\users\\yasi kasmi\\anaconda3\\envs\\tf-gpu-clean\\lib\\site-packages (2.3.0)\n",
      "Requirement already satisfied: matplotlib in c:\\users\\yasi kasmi\\anaconda3\\envs\\tf-gpu-clean\\lib\\site-packages (3.10.3)\n",
      "Requirement already satisfied: seaborn in c:\\users\\yasi kasmi\\anaconda3\\envs\\tf-gpu-clean\\lib\\site-packages (0.13.2)\n",
      "Requirement already satisfied: librosa in c:\\users\\yasi kasmi\\anaconda3\\envs\\tf-gpu-clean\\lib\\site-packages (0.11.0)\n",
      "Requirement already satisfied: scikit-learn in c:\\users\\yasi kasmi\\anaconda3\\envs\\tf-gpu-clean\\lib\\site-packages (1.7.0)\n",
      "Requirement already satisfied: tqdm in c:\\users\\yasi kasmi\\anaconda3\\envs\\tf-gpu-clean\\lib\\site-packages (4.67.1)\n",
      "Requirement already satisfied: soundfile in c:\\users\\yasi kasmi\\anaconda3\\envs\\tf-gpu-clean\\lib\\site-packages (0.13.1)\n",
      "Requirement already satisfied: python-dateutil>=2.8.2 in c:\\users\\yasi kasmi\\anaconda3\\envs\\tf-gpu-clean\\lib\\site-packages (from pandas) (2.9.0.post0)\n",
      "Requirement already satisfied: pytz>=2020.1 in c:\\users\\yasi kasmi\\anaconda3\\envs\\tf-gpu-clean\\lib\\site-packages (from pandas) (2025.2)\n",
      "Requirement already satisfied: tzdata>=2022.7 in c:\\users\\yasi kasmi\\anaconda3\\envs\\tf-gpu-clean\\lib\\site-packages (from pandas) (2025.2)\n",
      "Requirement already satisfied: contourpy>=1.0.1 in c:\\users\\yasi kasmi\\anaconda3\\envs\\tf-gpu-clean\\lib\\site-packages (from matplotlib) (1.3.2)\n",
      "Requirement already satisfied: cycler>=0.10 in c:\\users\\yasi kasmi\\anaconda3\\envs\\tf-gpu-clean\\lib\\site-packages (from matplotlib) (0.12.1)\n",
      "Requirement already satisfied: fonttools>=4.22.0 in c:\\users\\yasi kasmi\\anaconda3\\envs\\tf-gpu-clean\\lib\\site-packages (from matplotlib) (4.58.4)\n",
      "Requirement already satisfied: kiwisolver>=1.3.1 in c:\\users\\yasi kasmi\\anaconda3\\envs\\tf-gpu-clean\\lib\\site-packages (from matplotlib) (1.4.8)\n",
      "Requirement already satisfied: packaging>=20.0 in c:\\users\\yasi kasmi\\anaconda3\\envs\\tf-gpu-clean\\lib\\site-packages (from matplotlib) (25.0)\n",
      "Requirement already satisfied: pillow>=8 in c:\\users\\yasi kasmi\\anaconda3\\envs\\tf-gpu-clean\\lib\\site-packages (from matplotlib) (11.2.1)\n",
      "Requirement already satisfied: pyparsing>=2.3.1 in c:\\users\\yasi kasmi\\anaconda3\\envs\\tf-gpu-clean\\lib\\site-packages (from matplotlib) (3.2.3)\n",
      "Requirement already satisfied: audioread>=2.1.9 in c:\\users\\yasi kasmi\\anaconda3\\envs\\tf-gpu-clean\\lib\\site-packages (from librosa) (3.0.1)\n",
      "Requirement already satisfied: numba>=0.51.0 in c:\\users\\yasi kasmi\\anaconda3\\envs\\tf-gpu-clean\\lib\\site-packages (from librosa) (0.61.2)\n",
      "Requirement already satisfied: scipy>=1.6.0 in c:\\users\\yasi kasmi\\anaconda3\\envs\\tf-gpu-clean\\lib\\site-packages (from librosa) (1.15.3)\n",
      "Requirement already satisfied: joblib>=1.0 in c:\\users\\yasi kasmi\\anaconda3\\envs\\tf-gpu-clean\\lib\\site-packages (from librosa) (1.5.1)\n",
      "Requirement already satisfied: decorator>=4.3.0 in c:\\users\\yasi kasmi\\anaconda3\\envs\\tf-gpu-clean\\lib\\site-packages (from librosa) (5.2.1)\n",
      "Requirement already satisfied: pooch>=1.1 in c:\\users\\yasi kasmi\\anaconda3\\envs\\tf-gpu-clean\\lib\\site-packages (from librosa) (1.8.2)\n",
      "Requirement already satisfied: soxr>=0.3.2 in c:\\users\\yasi kasmi\\anaconda3\\envs\\tf-gpu-clean\\lib\\site-packages (from librosa) (0.5.0.post1)\n",
      "Requirement already satisfied: typing_extensions>=4.1.1 in c:\\users\\yasi kasmi\\anaconda3\\envs\\tf-gpu-clean\\lib\\site-packages (from librosa) (4.14.0)\n",
      "Requirement already satisfied: lazy_loader>=0.1 in c:\\users\\yasi kasmi\\anaconda3\\envs\\tf-gpu-clean\\lib\\site-packages (from librosa) (0.4)\n",
      "Requirement already satisfied: msgpack>=1.0 in c:\\users\\yasi kasmi\\anaconda3\\envs\\tf-gpu-clean\\lib\\site-packages (from librosa) (1.1.1)\n",
      "Requirement already satisfied: threadpoolctl>=3.1.0 in c:\\users\\yasi kasmi\\anaconda3\\envs\\tf-gpu-clean\\lib\\site-packages (from scikit-learn) (3.6.0)\n",
      "Requirement already satisfied: colorama in c:\\users\\yasi kasmi\\anaconda3\\envs\\tf-gpu-clean\\lib\\site-packages (from tqdm) (0.4.6)\n",
      "Requirement already satisfied: cffi>=1.0 in c:\\users\\yasi kasmi\\anaconda3\\envs\\tf-gpu-clean\\lib\\site-packages (from soundfile) (1.17.1)\n",
      "Requirement already satisfied: pycparser in c:\\users\\yasi kasmi\\anaconda3\\envs\\tf-gpu-clean\\lib\\site-packages (from cffi>=1.0->soundfile) (2.22)\n",
      "Requirement already satisfied: llvmlite<0.45,>=0.44.0dev0 in c:\\users\\yasi kasmi\\anaconda3\\envs\\tf-gpu-clean\\lib\\site-packages (from numba>=0.51.0->librosa) (0.44.0)\n",
      "Requirement already satisfied: platformdirs>=2.5.0 in c:\\users\\yasi kasmi\\anaconda3\\envs\\tf-gpu-clean\\lib\\site-packages (from pooch>=1.1->librosa) (4.3.8)\n",
      "Requirement already satisfied: requests>=2.19.0 in c:\\users\\yasi kasmi\\anaconda3\\envs\\tf-gpu-clean\\lib\\site-packages (from pooch>=1.1->librosa) (2.32.4)\n",
      "Requirement already satisfied: six>=1.5 in c:\\users\\yasi kasmi\\anaconda3\\envs\\tf-gpu-clean\\lib\\site-packages (from python-dateutil>=2.8.2->pandas) (1.17.0)\n",
      "Requirement already satisfied: charset_normalizer<4,>=2 in c:\\users\\yasi kasmi\\anaconda3\\envs\\tf-gpu-clean\\lib\\site-packages (from requests>=2.19.0->pooch>=1.1->librosa) (3.4.2)\n",
      "Requirement already satisfied: idna<4,>=2.5 in c:\\users\\yasi kasmi\\anaconda3\\envs\\tf-gpu-clean\\lib\\site-packages (from requests>=2.19.0->pooch>=1.1->librosa) (3.10)\n",
      "Requirement already satisfied: urllib3<3,>=1.21.1 in c:\\users\\yasi kasmi\\anaconda3\\envs\\tf-gpu-clean\\lib\\site-packages (from requests>=2.19.0->pooch>=1.1->librosa) (2.5.0)\n",
      "Requirement already satisfied: certifi>=2017.4.17 in c:\\users\\yasi kasmi\\anaconda3\\envs\\tf-gpu-clean\\lib\\site-packages (from requests>=2.19.0->pooch>=1.1->librosa) (2025.6.15)\n",
      "Using cached numpy-2.2.6-cp310-cp310-win_amd64.whl (12.9 MB)\n",
      "Installing collected packages: numpy\n",
      "Successfully installed numpy-2.2.6\n"
     ]
    }
   ],
   "source": [
    "!pip install numpy pandas matplotlib seaborn librosa scikit-learn tqdm soundfile"
   ]
  },
  {
   "cell_type": "code",
   "execution_count": 2,
   "id": "23d4487c-d6a3-4764-864d-b32f6086221f",
   "metadata": {},
   "outputs": [],
   "source": [
    "import tarfile\n",
    "import os\n",
    "\n",
    "data_path = r\"F:\\Firefox downloader\\Projects\\Project 2 - Music Genre Indentification\"\n",
    "tar_file = os.path.join(data_path, \"genres.tar.gz\")\n",
    "\n",
    "with tarfile.open(tar_file, 'r:gz') as tar:\n",
    "    tar.extractall(path=data_path)"
   ]
  },
  {
   "cell_type": "code",
   "execution_count": 3,
   "id": "e88ab895-ae73-4411-addb-a53f45aeb4a1",
   "metadata": {},
   "outputs": [
    {
     "name": "stdout",
     "output_type": "stream",
     "text": [
      "Genres: ['blues', 'classical', 'country', 'disco', 'hiphop', 'jazz', 'metal', 'pop', 'reggae', 'rock']\n",
      "blues: 100 files\n",
      "classical: 100 files\n",
      "country: 100 files\n",
      "disco: 100 files\n",
      "hiphop: 100 files\n",
      "jazz: 100 files\n",
      "metal: 100 files\n",
      "pop: 100 files\n",
      "reggae: 100 files\n",
      "rock: 100 files\n"
     ]
    }
   ],
   "source": [
    "import os\n",
    "\n",
    "genres_dir = r\"F:\\Firefox downloader\\Projects\\Project 2 - Music Genre Indentification\\genres\"\n",
    "genres = [d for d in os.listdir(genres_dir) if os.path.isdir(os.path.join(genres_dir, d))]\n",
    "print(\"Genres:\", genres)\n",
    "\n",
    "for genre in genres:\n",
    "    files = os.listdir(os.path.join(genres_dir, genre))\n",
    "    print(f\"{genre}: {len(files)} files\")"
   ]
  },
  {
   "cell_type": "code",
   "execution_count": 4,
   "id": "e275c9d2-739e-4e1d-af0e-e72b74170d61",
   "metadata": {},
   "outputs": [
    {
     "name": "stdout",
     "output_type": "stream",
     "text": [
      "blues: 100 .au files found\n",
      "classical: 100 .au files found\n",
      "country: 100 .au files found\n",
      "disco: 100 .au files found\n",
      "hiphop: 100 .au files found\n",
      "jazz: 100 .au files found\n",
      "metal: 100 .au files found\n",
      "pop: 100 .au files found\n",
      "reggae: 100 .au files found\n",
      "rock: 100 .au files found\n",
      "Total audio files: 1000\n"
     ]
    }
   ],
   "source": [
    "import glob\n",
    "\n",
    "audio_files = []\n",
    "labels = []\n",
    "\n",
    "for genre in genres:\n",
    "    genre_path = os.path.join(genres_dir, genre)\n",
    "    files = glob.glob(os.path.join(genre_path, \"*.au\"))  # Use .au extension\n",
    "    print(f\"{genre}: {len(files)} .au files found\")\n",
    "    audio_files.extend(files)\n",
    "    labels.extend([genre] * len(files))\n",
    "\n",
    "print(f\"Total audio files: {len(audio_files)}\")"
   ]
  },
  {
   "cell_type": "code",
   "execution_count": 5,
   "id": "e98eea05-d059-41d7-8cb1-788ea854fef9",
   "metadata": {},
   "outputs": [
    {
     "name": "stdout",
     "output_type": "stream",
     "text": [
      "Train: 800, Validation: 200\n"
     ]
    }
   ],
   "source": [
    "import numpy as np\n",
    "from sklearn.model_selection import train_test_split\n",
    "\n",
    "audio_files = np.array(audio_files)\n",
    "labels = np.array(labels)\n",
    "\n",
    "X_train, X_val, y_train, y_val = train_test_split(\n",
    "    audio_files, labels, test_size=0.2, stratify=labels, random_state=42\n",
    ")\n",
    "\n",
    "print(f\"Train: {len(X_train)}, Validation: {len(X_val)}\")\n"
   ]
  },
  {
   "cell_type": "code",
   "execution_count": 6,
   "id": "7e874366-df06-45be-b45d-d0d8e4cfac1f",
   "metadata": {},
   "outputs": [],
   "source": [
    "import librosa\n",
    "import numpy as np\n",
    "\n",
    "def extract_features(file_path, n_mfcc=40, max_len=130):\n",
    "    y, sr = librosa.load(file_path, sr=None, mono=True)\n",
    "    mfcc = librosa.feature.mfcc(y=y, sr=sr, n_mfcc=n_mfcc)\n",
    "    # Pad or truncate to max_len\n",
    "    if mfcc.shape[1] < max_len:\n",
    "        pad_width = max_len - mfcc.shape[1]\n",
    "        mfcc = np.pad(mfcc, pad_width=((0,0), (0, pad_width)), mode='constant')\n",
    "    else:\n",
    "        mfcc = mfcc[:, :max_len]\n",
    "    return mfcc"
   ]
  },
  {
   "cell_type": "code",
   "execution_count": 7,
   "id": "34c8c358-2d52-4ea6-b603-fdf0abe46705",
   "metadata": {},
   "outputs": [
    {
     "name": "stderr",
     "output_type": "stream",
     "text": [
      "100%|█████████████████████████████████████████████████████████████████████████████████████████████████████████████████████| 800/800 [00:56<00:00, 14.12it/s]\n",
      "100%|█████████████████████████████████████████████████████████████████████████████████████████████████████████████████████| 200/200 [00:06<00:00, 31.67it/s]"
     ]
    },
    {
     "name": "stdout",
     "output_type": "stream",
     "text": [
      "Feature shape: (800, 40, 130)\n"
     ]
    },
    {
     "name": "stderr",
     "output_type": "stream",
     "text": [
      "\n"
     ]
    }
   ],
   "source": [
    "from tqdm import tqdm\n",
    "\n",
    "def build_feature_dataset(file_list, label_list, n_mfcc=40, max_len=130):\n",
    "    X = []\n",
    "    y = []\n",
    "    for f, label in tqdm(zip(file_list, label_list), total=len(file_list)):\n",
    "        try:\n",
    "            features = extract_features(f, n_mfcc=n_mfcc, max_len=max_len)\n",
    "            X.append(features)\n",
    "            y.append(label)\n",
    "        except Exception as e:\n",
    "            print(f\"Error processing {f}: {e}\")\n",
    "    return np.array(X), np.array(y)\n",
    "\n",
    "X_train_feat, y_train_feat = build_feature_dataset(X_train, y_train)\n",
    "X_val_feat, y_val_feat = build_feature_dataset(X_val, y_val)\n",
    "\n",
    "print(\"Feature shape:\", X_train_feat.shape)"
   ]
  },
  {
   "cell_type": "code",
   "execution_count": 8,
   "id": "2189cc3a-e4c6-428c-b999-ec8c8447d329",
   "metadata": {},
   "outputs": [
    {
     "name": "stdout",
     "output_type": "stream",
     "text": [
      "1.26.4\n",
      "C:\\Users\\Yasi Kasmi\\anaconda3\\envs\\tf-gpu-clean\\lib\\site-packages\\numpy\\__init__.py\n"
     ]
    }
   ],
   "source": [
    "import numpy\n",
    "print(numpy.__version__)\n",
    "print(numpy.__file__)\n"
   ]
  },
  {
   "cell_type": "code",
   "execution_count": 9,
   "id": "792fb20c-f791-45ac-aa7c-849b2d734c22",
   "metadata": {
    "scrolled": true
   },
   "outputs": [
    {
     "name": "stdout",
     "output_type": "stream",
     "text": [
      "1.26.4\n",
      "2.10.0\n",
      "[PhysicalDevice(name='/physical_device:GPU:0', device_type='GPU')]\n"
     ]
    }
   ],
   "source": [
    "import numpy\n",
    "print(numpy.__version__)\n",
    "import tensorflow as tf\n",
    "print(tf.__version__)\n",
    "print(tf.config.list_physical_devices('GPU'))\n"
   ]
  },
  {
   "cell_type": "code",
   "execution_count": 11,
   "id": "bc3b4781-3d39-4a49-b454-2f3e89491ab8",
   "metadata": {},
   "outputs": [],
   "source": [
    "import tensorflow as tf\n",
    "from sklearn.preprocessing import LabelEncoder\n",
    "from tensorflow.keras.utils import to_categorical\n",
    "\n",
    "le = LabelEncoder()\n",
    "y_train_enc = le.fit_transform(y_train_feat)\n",
    "y_val_enc = le.transform(y_val_feat)\n",
    "\n",
    "y_train_cat = to_categorical(y_train_enc, num_classes=len(genres))\n",
    "y_val_cat = to_categorical(y_val_enc, num_classes=len(genres))"
   ]
  },
  {
   "cell_type": "code",
   "execution_count": 12,
   "id": "35b77d0f-03a8-4aac-94bc-0ee6bb79c16a",
   "metadata": {},
   "outputs": [
    {
     "name": "stdout",
     "output_type": "stream",
     "text": [
      "Model: \"sequential\"\n",
      "_________________________________________________________________\n",
      " Layer (type)                Output Shape              Param #   \n",
      "=================================================================\n",
      " reshape (Reshape)           (None, 40, 130, 1)        0         \n",
      "                                                                 \n",
      " conv2d (Conv2D)             (None, 40, 130, 32)       320       \n",
      "                                                                 \n",
      " max_pooling2d (MaxPooling2D  (None, 20, 65, 32)       0         \n",
      " )                                                               \n",
      "                                                                 \n",
      " conv2d_1 (Conv2D)           (None, 20, 65, 64)        18496     \n",
      "                                                                 \n",
      " max_pooling2d_1 (MaxPooling  (None, 10, 32, 64)       0         \n",
      " 2D)                                                             \n",
      "                                                                 \n",
      " flatten (Flatten)           (None, 20480)             0         \n",
      "                                                                 \n",
      " dense (Dense)               (None, 128)               2621568   \n",
      "                                                                 \n",
      " dropout (Dropout)           (None, 128)               0         \n",
      "                                                                 \n",
      " dense_1 (Dense)             (None, 10)                1290      \n",
      "                                                                 \n",
      "=================================================================\n",
      "Total params: 2,641,674\n",
      "Trainable params: 2,641,674\n",
      "Non-trainable params: 0\n",
      "_________________________________________________________________\n"
     ]
    }
   ],
   "source": [
    "import tensorflow as tf\n",
    "from tensorflow.keras import layers, models\n",
    "\n",
    "input_shape = X_train_feat.shape[1:]  # (n_mfcc, max_len)\n",
    "\n",
    "model = models.Sequential([\n",
    "    layers.Input(shape=input_shape),\n",
    "    layers.Reshape((*input_shape, 1)),  # Add channel dimension\n",
    "    layers.Conv2D(32, (3,3), activation='relu', padding='same'),\n",
    "    layers.MaxPooling2D((2,2)),\n",
    "    layers.Conv2D(64, (3,3), activation='relu', padding='same'),\n",
    "    layers.MaxPooling2D((2,2)),\n",
    "    layers.Flatten(),\n",
    "    layers.Dense(128, activation='relu'),\n",
    "    layers.Dropout(0.3),\n",
    "    layers.Dense(len(genres), activation='softmax')\n",
    "])\n",
    "\n",
    "model.compile(optimizer='adam', loss='categorical_crossentropy', metrics=['accuracy'])\n",
    "model.summary()"
   ]
  },
  {
   "cell_type": "code",
   "execution_count": 13,
   "id": "fd58f578-8ce7-426d-a718-468959705f9c",
   "metadata": {},
   "outputs": [
    {
     "name": "stdout",
     "output_type": "stream",
     "text": [
      "Epoch 1/30\n",
      "25/25 [==============================] - 10s 19ms/step - loss: 15.3107 - accuracy: 0.1013 - val_loss: 2.2447 - val_accuracy: 0.1300\n",
      "Epoch 2/30\n",
      "25/25 [==============================] - 0s 8ms/step - loss: 2.1705 - accuracy: 0.2050 - val_loss: 2.0445 - val_accuracy: 0.2450\n",
      "Epoch 3/30\n",
      "25/25 [==============================] - 0s 8ms/step - loss: 1.7977 - accuracy: 0.3787 - val_loss: 1.8876 - val_accuracy: 0.3500\n",
      "Epoch 4/30\n",
      "25/25 [==============================] - 0s 8ms/step - loss: 1.3759 - accuracy: 0.5450 - val_loss: 1.9015 - val_accuracy: 0.3600\n",
      "Epoch 5/30\n",
      "25/25 [==============================] - 0s 8ms/step - loss: 1.0571 - accuracy: 0.6338 - val_loss: 1.9439 - val_accuracy: 0.3450\n",
      "Epoch 6/30\n",
      "25/25 [==============================] - 0s 8ms/step - loss: 0.8309 - accuracy: 0.7113 - val_loss: 2.0647 - val_accuracy: 0.3500\n",
      "Epoch 7/30\n",
      "25/25 [==============================] - 0s 8ms/step - loss: 0.6145 - accuracy: 0.8062 - val_loss: 2.1618 - val_accuracy: 0.3250\n",
      "Epoch 8/30\n",
      "25/25 [==============================] - 0s 8ms/step - loss: 0.4495 - accuracy: 0.8662 - val_loss: 2.1454 - val_accuracy: 0.3950\n",
      "Epoch 9/30\n",
      "25/25 [==============================] - 0s 8ms/step - loss: 0.3262 - accuracy: 0.8975 - val_loss: 2.4907 - val_accuracy: 0.4000\n",
      "Epoch 10/30\n",
      "25/25 [==============================] - 0s 8ms/step - loss: 0.2952 - accuracy: 0.9287 - val_loss: 2.5393 - val_accuracy: 0.3850\n",
      "Epoch 11/30\n",
      "25/25 [==============================] - 0s 8ms/step - loss: 0.2044 - accuracy: 0.9488 - val_loss: 2.6308 - val_accuracy: 0.3950\n",
      "Epoch 12/30\n",
      "25/25 [==============================] - 0s 8ms/step - loss: 0.1350 - accuracy: 0.9688 - val_loss: 2.6946 - val_accuracy: 0.4150\n",
      "Epoch 13/30\n",
      "25/25 [==============================] - 0s 8ms/step - loss: 0.1171 - accuracy: 0.9812 - val_loss: 2.9341 - val_accuracy: 0.3650\n",
      "Epoch 14/30\n",
      "25/25 [==============================] - 0s 8ms/step - loss: 0.1022 - accuracy: 0.9750 - val_loss: 2.7254 - val_accuracy: 0.4000\n",
      "Epoch 15/30\n",
      "25/25 [==============================] - 0s 8ms/step - loss: 0.0701 - accuracy: 0.9875 - val_loss: 3.0172 - val_accuracy: 0.3850\n",
      "Epoch 16/30\n",
      "25/25 [==============================] - 0s 8ms/step - loss: 0.0855 - accuracy: 0.9787 - val_loss: 2.9664 - val_accuracy: 0.4050\n",
      "Epoch 17/30\n",
      "25/25 [==============================] - 0s 8ms/step - loss: 0.0629 - accuracy: 0.9875 - val_loss: 2.9164 - val_accuracy: 0.3750\n",
      "Epoch 18/30\n",
      "25/25 [==============================] - 0s 8ms/step - loss: 0.0389 - accuracy: 0.9912 - val_loss: 3.4038 - val_accuracy: 0.4150\n",
      "Epoch 19/30\n",
      "25/25 [==============================] - 0s 8ms/step - loss: 0.0312 - accuracy: 0.9950 - val_loss: 3.2614 - val_accuracy: 0.4050\n",
      "Epoch 20/30\n",
      "25/25 [==============================] - 0s 8ms/step - loss: 0.0296 - accuracy: 0.9937 - val_loss: 3.2325 - val_accuracy: 0.4000\n",
      "Epoch 21/30\n",
      "25/25 [==============================] - 0s 8ms/step - loss: 0.0209 - accuracy: 0.9987 - val_loss: 3.6200 - val_accuracy: 0.4150\n",
      "Epoch 22/30\n",
      "25/25 [==============================] - 0s 8ms/step - loss: 0.0251 - accuracy: 0.9925 - val_loss: 3.6215 - val_accuracy: 0.3950\n",
      "Epoch 23/30\n",
      "25/25 [==============================] - 0s 8ms/step - loss: 0.0482 - accuracy: 0.9887 - val_loss: 3.3465 - val_accuracy: 0.3950\n",
      "Epoch 24/30\n",
      "25/25 [==============================] - 0s 8ms/step - loss: 0.0339 - accuracy: 0.9950 - val_loss: 3.5829 - val_accuracy: 0.3950\n",
      "Epoch 25/30\n",
      "25/25 [==============================] - 0s 8ms/step - loss: 0.0390 - accuracy: 0.9912 - val_loss: 3.5612 - val_accuracy: 0.3750\n",
      "Epoch 26/30\n",
      "25/25 [==============================] - 0s 8ms/step - loss: 0.0333 - accuracy: 0.9937 - val_loss: 3.6377 - val_accuracy: 0.3450\n",
      "Epoch 27/30\n",
      "25/25 [==============================] - 0s 8ms/step - loss: 0.0363 - accuracy: 0.9925 - val_loss: 3.4844 - val_accuracy: 0.3300\n",
      "Epoch 28/30\n",
      "25/25 [==============================] - 0s 8ms/step - loss: 0.0221 - accuracy: 0.9925 - val_loss: 3.6957 - val_accuracy: 0.3700\n",
      "Epoch 29/30\n",
      "25/25 [==============================] - 0s 8ms/step - loss: 0.0562 - accuracy: 0.9837 - val_loss: 3.4259 - val_accuracy: 0.3550\n",
      "Epoch 30/30\n",
      "25/25 [==============================] - 0s 8ms/step - loss: 0.0466 - accuracy: 0.9875 - val_loss: 3.9487 - val_accuracy: 0.3500\n"
     ]
    }
   ],
   "source": [
    "history = model.fit(\n",
    "    X_train_feat, y_train_cat,\n",
    "    validation_data=(X_val_feat, y_val_cat),\n",
    "    epochs=30,\n",
    "    batch_size=32\n",
    ")"
   ]
  },
  {
   "cell_type": "code",
   "execution_count": 14,
   "id": "94366d11-6ece-4d6d-bdb2-5de2c3f3b2ae",
   "metadata": {},
   "outputs": [
    {
     "data": {
      "image/png": "[encoded data removed]",
      "text/plain": [
       "<Figure size 640x480 with 1 Axes>"
      ]
     },
     "metadata": {},
     "output_type": "display_data"
    },
    {
     "data": {
      "image/png": "[encoded data removed]",
      "text/plain": [
       "<Figure size 640x480 with 1 Axes>"
      ]
     },
     "metadata": {},
     "output_type": "display_data"
    },
    {
     "name": "stdout",
     "output_type": "stream",
     "text": [
      "7/7 [==============================] - 0s 2ms/step\n",
      "              precision    recall  f1-score   support\n",
      "\n",
      "       blues       0.08      0.10      0.09        20\n",
      "   classical       0.58      0.55      0.56        20\n",
      "     country       0.40      0.30      0.34        20\n",
      "       disco       0.27      0.15      0.19        20\n",
      "      hiphop       0.33      0.70      0.45        20\n",
      "        jazz       0.59      0.50      0.54        20\n",
      "       metal       0.26      0.50      0.34        20\n",
      "         pop       0.56      0.50      0.53        20\n",
      "      reggae       0.33      0.20      0.25        20\n",
      "        rock       0.00      0.00      0.00        20\n",
      "\n",
      "    accuracy                           0.35       200\n",
      "   macro avg       0.34      0.35      0.33       200\n",
      "weighted avg       0.34      0.35      0.33       200\n",
      "\n"
     ]
    }
   ],
   "source": [
    "import matplotlib.pyplot as plt\n",
    "\n",
    "plt.plot(history.history['accuracy'], label='train acc')\n",
    "plt.plot(history.history['val_accuracy'], label='val acc')\n",
    "plt.legend()\n",
    "plt.title(\"Accuracy\")\n",
    "plt.show()\n",
    "\n",
    "plt.plot(history.history['loss'], label='train loss')\n",
    "plt.plot(history.history['val_loss'], label='val loss')\n",
    "plt.legend()\n",
    "plt.title(\"Loss\")\n",
    "plt.show()\n",
    "\n",
    "from sklearn.metrics import classification_report\n",
    "\n",
    "y_pred = np.argmax(model.predict(X_val_feat), axis=1)\n",
    "print(classification_report(y_val_enc, y_pred, target_names=le.classes_))"
   ]
  },
  {
   "cell_type": "code",
   "execution_count": 15,
   "id": "6c68c460-5a41-4047-bb12-811347c8b9f3",
   "metadata": {},
   "outputs": [],
   "source": [
    "model.save(\"genre_cnn_model.h5\")\n",
    "import pickle\n",
    "with open(\"label_encoder.pkl\", \"wb\") as f:\n",
    "    pickle.dump(le, f)"
   ]
  },
  {
   "cell_type": "code",
   "execution_count": 16,
   "id": "72c50b91-e8f5-4e3e-9703-d75a4d6fdac2",
   "metadata": {},
   "outputs": [],
   "source": [
    "def predict_genre(file_path):\n",
    "    features = extract_features(file_path)\n",
    "    features = np.expand_dims(features, axis=0)\n",
    "    pred = np.argmax(model.predict(features), axis=1)\n",
    "    return le.inverse_transform(pred)[0]\n",
    "\n",
    "# Example usage:\n",
    "# print(predict_genre(r\"F:\\path\\to\\some\\file.au\"))"
   ]
  },
  {
   "cell_type": "code",
   "execution_count": null,
   "id": "1b802f37-2d9c-4217-9b23-b429750cb0bd",
   "metadata": {},
   "outputs": [],
   "source": []
  }
 ],
 "metadata": {
  "kernelspec": {
   "display_name": "Python (tf-gpu-clean)",
   "language": "python",
   "name": "tf-gpu-clean"
  },
  "language_info": {
   "codemirror_mode": {
    "name": "ipython",
    "version": 3
   },
   "file_extension": ".py",
   "mimetype": "text/x-python",
   "name": "python",
   "nbconvert_exporter": "python",
   "pygments_lexer": "ipython3",
   "version": "3.10.18"
  }
 },
 "nbformat": 4,
 "nbformat_minor": 5
}
