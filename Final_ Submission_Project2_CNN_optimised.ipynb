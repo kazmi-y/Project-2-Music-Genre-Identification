{
 "cells": [
  {
   "cell_type": "code",
   "execution_count": 1,
   "id": "0735edb8-7903-40aa-b99b-0b284161f33b",
   "metadata": {},
   "outputs": [
    {
     "name": "stdout",
     "output_type": "stream",
     "text": [
      "Requirement already satisfied: keras-tuner in c:\\users\\yasi kasmi\\anaconda3\\envs\\tf-gpu-clean\\lib\\site-packages (1.4.7)\n",
      "Requirement already satisfied: keras in c:\\users\\yasi kasmi\\anaconda3\\envs\\tf-gpu-clean\\lib\\site-packages (from keras-tuner) (2.10.0)\n",
      "Requirement already satisfied: packaging in c:\\users\\yasi kasmi\\anaconda3\\envs\\tf-gpu-clean\\lib\\site-packages (from keras-tuner) (25.0)\n",
      "Requirement already satisfied: requests in c:\\users\\yasi kasmi\\anaconda3\\envs\\tf-gpu-clean\\lib\\site-packages (from keras-tuner) (2.32.4)\n",
      "Requirement already satisfied: kt-legacy in c:\\users\\yasi kasmi\\anaconda3\\envs\\tf-gpu-clean\\lib\\site-packages (from keras-tuner) (1.0.5)\n",
      "Requirement already satisfied: charset_normalizer<4,>=2 in c:\\users\\yasi kasmi\\anaconda3\\envs\\tf-gpu-clean\\lib\\site-packages (from requests->keras-tuner) (3.4.2)\n",
      "Requirement already satisfied: idna<4,>=2.5 in c:\\users\\yasi kasmi\\anaconda3\\envs\\tf-gpu-clean\\lib\\site-packages (from requests->keras-tuner) (3.10)\n",
      "Requirement already satisfied: urllib3<3,>=1.21.1 in c:\\users\\yasi kasmi\\anaconda3\\envs\\tf-gpu-clean\\lib\\site-packages (from requests->keras-tuner) (2.5.0)\n",
      "Requirement already satisfied: certifi>=2017.4.17 in c:\\users\\yasi kasmi\\anaconda3\\envs\\tf-gpu-clean\\lib\\site-packages (from requests->keras-tuner) (2025.6.15)\n"
     ]
    }
   ],
   "source": [
    "!pip install keras-tuner"
   ]
  },
  {
   "cell_type": "code",
   "execution_count": 2,
   "id": "1827f808-94fe-41ae-9993-709d96ec7435",
   "metadata": {},
   "outputs": [],
   "source": [
    "# Then import\n",
    "from keras_tuner import Hyperband\n",
    "from tensorflow.keras import layers, models"
   ]
  },
  {
   "cell_type": "code",
   "execution_count": 3,
   "id": "078301ff-5a75-44ba-a2c7-bbc4c0e720d9",
   "metadata": {},
   "outputs": [
    {
     "name": "stdout",
     "output_type": "stream",
     "text": [
      "GPU Available: [PhysicalDevice(name='/physical_device:GPU:0', device_type='GPU')]\n"
     ]
    }
   ],
   "source": [
    "# Step 1: Environment Setup\n",
    "import os\n",
    "import numpy as np\n",
    "import librosa\n",
    "import librosa.display\n",
    "import matplotlib.pyplot as plt\n",
    "from tqdm import tqdm\n",
    "from sklearn.model_selection import train_test_split\n",
    "from sklearn.preprocessing import LabelEncoder\n",
    "from tensorflow.keras import layers, models\n",
    "from tensorflow.keras.utils import to_categorical\n",
    "import tensorflow as tf\n",
    "\n",
    "# Verify GPU availability\n",
    "print(\"GPU Available:\", tf.config.list_physical_devices('GPU'))\n"
   ]
  },
  {
   "cell_type": "code",
   "execution_count": 10,
   "id": "11f1deef-c354-408a-800c-b2e15e2c5373",
   "metadata": {},
   "outputs": [],
   "source": [
    "# Step 3: Configuration\n",
    "DATA_PATH = r\"F:\\Firefox downloader\\Projects\\Project 2 - Music Genre Indentification\\genres\"\n",
    "SAMPLE_RATE = 22050\n",
    "DURATION = 30  # Seconds\n",
    "N_MELS = 128\n",
    "N_MFCC = 40\n",
    "MAX_FRAMES = 130  # Time steps\n",
    "BATCH_SIZE = 8\n",
    "EPOCHS = 50"
   ]
  },
  {
   "cell_type": "code",
   "execution_count": 11,
   "id": "2f025ae2-bb5c-4f1c-82e5-01519cb8be8a",
   "metadata": {},
   "outputs": [],
   "source": [
    "# Step 4: Enhanced Feature Extraction\n",
    "def extract_combined_features(file_path):\n",
    "    try:\n",
    "        y, sr = librosa.load(file_path, sr=SAMPLE_RATE, duration=DURATION)\n",
    "        \n",
    "        # Extract multiple features\n",
    "        mel = librosa.feature.melspectrogram(y=y, sr=sr, n_mels=N_MELS)\n",
    "        log_mel = librosa.power_to_db(mel, ref=np.max)\n",
    "        mfcc = librosa.feature.mfcc(y=y, sr=sr, n_mfcc=N_MFCC)\n",
    "        chroma = librosa.feature.chroma_stft(y=y, sr=sr)\n",
    "        contrast = librosa.feature.spectral_contrast(y=y, sr=sr)\n",
    "        \n",
    "        # Stack features vertically\n",
    "        features = np.vstack([log_mel, mfcc, chroma, contrast])\n",
    "        \n",
    "        # Pad/truncate to fixed size\n",
    "        if features.shape[1] < MAX_FRAMES:\n",
    "            features = np.pad(features, ((0, 0), (0, MAX_FRAMES - features.shape[1])), mode='constant')\n",
    "        else:\n",
    "            features = features[:, :MAX_FRAMES]\n",
    "            \n",
    "        return features.T  # Transpose to (time, features)\n",
    "    \n",
    "    except Exception as e:\n",
    "        print(f\"Error processing {file_path}: {str(e)}\")\n",
    "        return None"
   ]
  },
  {
   "cell_type": "code",
   "execution_count": 12,
   "id": "0dd901db-7411-4ffa-a411-cf3d36d8bf1b",
   "metadata": {},
   "outputs": [],
   "source": [
    "# Step 2: Feature Extraction (Insert Enhanced Features)\n",
    "def extract_combined_features(file_path):\n",
    "    y, sr = librosa.load(file_path, sr=SAMPLE_RATE, duration=DURATION)\n",
    "    \n",
    "    # Combine multiple feature types\n",
    "    features = {\n",
    "        'mel': librosa.feature.melspectrogram(y=y, sr=sr, n_mels=128),\n",
    "        'mfcc': librosa.feature.mfcc(y=y, sr=sr, n_mfcc=40),\n",
    "        'chroma': librosa.feature.chroma_stft(y=y, sr=sr),\n",
    "        'contrast': librosa.feature.spectral_contrast(y=y, sr=sr)\n",
    "    }\n",
    "    \n",
    "    # Stack and normalize features\n",
    "    stacked = np.vstack([\n",
    "        librosa.power_to_db(features['mel']),\n",
    "        features['mfcc'],\n",
    "        features['chroma'],\n",
    "        features['contrast']\n",
    "    ])\n",
    "    \n",
    "    # Pad/truncate\n",
    "    if stacked.shape[1] < MAX_FRAMES:\n",
    "        stacked = np.pad(stacked, ((0,0), (0, MAX_FRAMES - stacked.shape[1])))\n",
    "    else:\n",
    "        stacked = stacked[:, :MAX_FRAMES]\n",
    "    \n",
    "    return stacked[..., np.newaxis]  # Add channel dimension\n"
   ]
  },
  {
   "cell_type": "code",
   "execution_count": 13,
   "id": "75511f05-6bec-41f6-b3f0-fe98c546fc5e",
   "metadata": {},
   "outputs": [],
   "source": [
    "# Step 5: Dataset Preparation\n",
    "def prepare_dataset(data_path):\n",
    "    genres = [d for d in os.listdir(data_path) \n",
    "             if os.path.isdir(os.path.join(data_path, d))]\n",
    "    \n",
    "    features = []\n",
    "    labels = []\n",
    "    \n",
    "    print(\"Processing audio files...\")\n",
    "    for genre in genres:\n",
    "        genre_path = os.path.join(data_path, genre)\n",
    "        files = [os.path.join(genre_path, f) for f in os.listdir(genre_path) \n",
    "                if f.endswith('.au')]\n",
    "        \n",
    "        for file in tqdm(files, desc=genre):\n",
    "            spec = extract_combined_features(file)\n",
    "            if spec is not None:\n",
    "                features.append(spec)\n",
    "                labels.append(genre)\n",
    "    \n",
    "    # Convert to numpy arrays\n",
    "    X = np.array(features)\n",
    "    y = np.array(labels)\n",
    "    \n",
    "    # Add channel dimension (CNN expects 3D: height, width, channels)\n",
    "    X = X[..., np.newaxis]\n",
    "    \n",
    "    # Encode labels\n",
    "    le = LabelEncoder()\n",
    "    y_encoded = le.fit_transform(y)\n",
    "    y_categorical = to_categorical(y_encoded)\n",
    "    \n",
    "    return X, y_categorical, le, genres"
   ]
  },
  {
   "cell_type": "code",
   "execution_count": 14,
   "id": "7840ab36-8ae3-4c2b-8f93-ae89b28ec262",
   "metadata": {},
   "outputs": [],
   "source": [
    "from tensorflow.keras.utils import to_categorical"
   ]
  },
  {
   "cell_type": "code",
   "execution_count": 15,
   "id": "98a78fd6-ad0b-4d2a-9358-f328d8543e91",
   "metadata": {},
   "outputs": [
    {
     "name": "stdout",
     "output_type": "stream",
     "text": [
      "Processing audio files...\n"
     ]
    },
    {
     "name": "stderr",
     "output_type": "stream",
     "text": [
      "blues: 100%|█████████████████████████████████████████████████████████████████████████| 100/100 [00:16<00:00,  6.12it/s]\n",
      "classical: 100%|█████████████████████████████████████████████████████████████████████| 100/100 [00:22<00:00,  4.35it/s]\n",
      "country: 100%|███████████████████████████████████████████████████████████████████████| 100/100 [00:25<00:00,  3.98it/s]\n",
      "disco: 100%|█████████████████████████████████████████████████████████████████████████| 100/100 [00:25<00:00,  3.86it/s]\n",
      "hiphop: 100%|████████████████████████████████████████████████████████████████████████| 100/100 [00:26<00:00,  3.84it/s]\n",
      "jazz: 100%|██████████████████████████████████████████████████████████████████████████| 100/100 [00:27<00:00,  3.59it/s]\n",
      "metal: 100%|█████████████████████████████████████████████████████████████████████████| 100/100 [00:26<00:00,  3.71it/s]\n",
      "pop: 100%|███████████████████████████████████████████████████████████████████████████| 100/100 [00:27<00:00,  3.68it/s]\n",
      "reggae: 100%|████████████████████████████████████████████████████████████████████████| 100/100 [00:25<00:00,  3.87it/s]\n",
      "rock: 100%|██████████████████████████████████████████████████████████████████████████| 100/100 [00:25<00:00,  3.99it/s]"
     ]
    },
    {
     "name": "stdout",
     "output_type": "stream",
     "text": [
      "Dataset shape: (1000, 187, 130, 1, 1)\n",
      "Class names: ['blues', 'classical', 'country', 'disco', 'hiphop', 'jazz', 'metal', 'pop', 'reggae', 'rock']\n"
     ]
    },
    {
     "name": "stderr",
     "output_type": "stream",
     "text": [
      "\n"
     ]
    }
   ],
   "source": [
    "# Step 6: Load and Prepare Data\n",
    "X, y, label_encoder, class_names = prepare_dataset(DATA_PATH)\n",
    "print(f\"Dataset shape: {X.shape}\")\n",
    "print(f\"Class names: {class_names}\")"
   ]
  },
  {
   "cell_type": "code",
   "execution_count": 16,
   "id": "5f4a5ac3-e4d7-4852-860c-479baebd9d8e",
   "metadata": {},
   "outputs": [
    {
     "name": "stdout",
     "output_type": "stream",
     "text": [
      "Train shape: (800, 187, 130, 1, 1), Validation shape: (200, 187, 130, 1, 1)\n"
     ]
    }
   ],
   "source": [
    "# Step 7: Train-Validation Split\n",
    "X_train, X_val, y_train, y_val = train_test_split(\n",
    "    X, y, test_size=0.2, stratify=np.argmax(y, axis=1), random_state=42\n",
    ")\n",
    "print(f\"Train shape: {X_train.shape}, Validation shape: {X_val.shape}\")"
   ]
  },
  {
   "cell_type": "code",
   "execution_count": 18,
   "id": "f9700d83-4527-4533-b52e-d37d16631a0f",
   "metadata": {},
   "outputs": [
    {
     "name": "stdout",
     "output_type": "stream",
     "text": [
      "X_train shape after squeeze: (800, 187, 130)\n",
      "X_val shape after squeeze: (200, 187, 130)\n",
      "Corrected input shape: (187, 130)\n"
     ]
    }
   ],
   "source": [
    "# # Fix input data shape (do this ONCE before model building)\n",
    "# X_train = np.squeeze(X_train, axis=-1)\n",
    "# X_val = np.squeeze(X_val, axis=-1)\n",
    "\n",
    "# # Check shapes\n",
    "# print(\"X_train shape after squeeze:\", X_train.shape)  # (samples, height, width, 1)\n",
    "# print(\"X_val shape after squeeze:\", X_val.shape)\n",
    "\n",
    "# # Define input shape for model\n",
    "# input_shape = X_train.shape[1:]\n",
    "# print(\"Corrected input shape:\", input_shape)\n",
    "\n"
   ]
  },
  {
   "cell_type": "code",
   "execution_count": 23,
   "id": "7dd7d8f2-8396-4369-869c-43996883758a",
   "metadata": {},
   "outputs": [
    {
     "name": "stdout",
     "output_type": "stream",
     "text": [
      "Shapes before adjustment:\n",
      "X_train: (800, 187, 130) X_val: (200, 187, 130)\n",
      "Shapes after adjustment:\n",
      "X_train: (800, 187, 130, 1) X_val: (200, 187, 130, 1)\n"
     ]
    }
   ],
   "source": [
    "# After train/validation split\n",
    "print(\"Shapes before adjustment:\")\n",
    "print(\"X_train:\", X_train.shape, \"X_val:\", X_val.shape)\n",
    "\n",
    "# Add channel dimension if needed\n",
    "if X_train.ndim == 3:\n",
    "    X_train = np.expand_dims(X_train, axis=-1)\n",
    "    X_val = np.expand_dims(X_val, axis=-1)\n",
    "\n",
    "print(\"Shapes after adjustment:\")\n",
    "print(\"X_train:\", X_train.shape, \"X_val:\", X_val.shape)"
   ]
  },
  {
   "cell_type": "code",
   "execution_count": 24,
   "id": "d0e65973-2d01-44a4-897c-595218f99d1e",
   "metadata": {},
   "outputs": [],
   "source": [
    "from sklearn.utils.class_weight import compute_class_weight"
   ]
  },
  {
   "cell_type": "code",
   "execution_count": 25,
   "id": "53ea15df-b85c-4847-86cb-8b626c739b8b",
   "metadata": {},
   "outputs": [
    {
     "name": "stdout",
     "output_type": "stream",
     "text": [
      "Class weights: {0: 1.0, 1: 1.0, 2: 1.0, 3: 1.0, 4: 1.0, 5: 1.0, 6: 1.0, 7: 1.0, 8: 1.0, 9: 1.0}\n"
     ]
    }
   ],
   "source": [
    "# Step 8: Compute Class Weights\n",
    "# Get integer class labels from one-hot encoded y_train\n",
    "y_train_labels = np.argmax(y_train, axis=1)\n",
    "\n",
    "# Compute class weights\n",
    "class_weights = compute_class_weight(\n",
    "    'balanced',\n",
    "    classes=np.unique(y_train_labels),\n",
    "    y=y_train_labels\n",
    ")\n",
    "class_weight_dict = dict(enumerate(class_weights))\n",
    "\n",
    "print(\"Class weights:\", class_weight_dict)"
   ]
  },
  {
   "cell_type": "code",
   "execution_count": 33,
   "id": "359ba442-310f-4d61-bb03-99c93c9f6dd2",
   "metadata": {},
   "outputs": [
    {
     "name": "stdout",
     "output_type": "stream",
     "text": [
      "Model: \"sequential_3\"\n",
      "_________________________________________________________________\n",
      " Layer (type)                Output Shape              Param #   \n",
      "=================================================================\n",
      " conv2d_9 (Conv2D)           (None, 187, 130, 64)      640       \n",
      "                                                                 \n",
      " max_pooling2d_6 (MaxPooling  (None, 93, 65, 64)       0         \n",
      " 2D)                                                             \n",
      "                                                                 \n",
      " batch_normalization_12 (Bat  (None, 93, 65, 64)       256       \n",
      " chNormalization)                                                \n",
      "                                                                 \n",
      " dropout_12 (Dropout)        (None, 93, 65, 64)        0         \n",
      "                                                                 \n",
      " conv2d_10 (Conv2D)          (None, 93, 65, 128)       73856     \n",
      "                                                                 \n",
      " max_pooling2d_7 (MaxPooling  (None, 46, 32, 128)      0         \n",
      " 2D)                                                             \n",
      "                                                                 \n",
      " batch_normalization_13 (Bat  (None, 46, 32, 128)      512       \n",
      " chNormalization)                                                \n",
      "                                                                 \n",
      " dropout_13 (Dropout)        (None, 46, 32, 128)       0         \n",
      "                                                                 \n",
      " conv2d_11 (Conv2D)          (None, 46, 32, 256)       295168    \n",
      "                                                                 \n",
      " batch_normalization_14 (Bat  (None, 46, 32, 256)      1024      \n",
      " chNormalization)                                                \n",
      "                                                                 \n",
      " dropout_14 (Dropout)        (None, 46, 32, 256)       0         \n",
      "                                                                 \n",
      " global_average_pooling2d_3   (None, 256)              0         \n",
      " (GlobalAveragePooling2D)                                        \n",
      "                                                                 \n",
      " dense_6 (Dense)             (None, 256)               65792     \n",
      "                                                                 \n",
      " batch_normalization_15 (Bat  (None, 256)              1024      \n",
      " chNormalization)                                                \n",
      "                                                                 \n",
      " dropout_15 (Dropout)        (None, 256)               0         \n",
      "                                                                 \n",
      " dense_7 (Dense)             (None, 10)                2570      \n",
      "                                                                 \n",
      "=================================================================\n",
      "Total params: 440,842\n",
      "Trainable params: 439,434\n",
      "Non-trainable params: 1,408\n",
      "_________________________________________________________________\n"
     ]
    }
   ],
   "source": [
    "# Step 9: Build Enhanced CNN Model\n",
    "def build_enhanced_cnn(input_shape, num_classes):\n",
    "    model = models.Sequential([\n",
    "        # Layer 1: Maintain dimensions with padding\n",
    "        layers.Conv2D(64, (3,3), activation='relu', padding='same', input_shape=input_shape),\n",
    "        layers.MaxPooling2D((2,2)),\n",
    "        layers.BatchNormalization(),\n",
    "        layers.Dropout(0.3),\n",
    "        \n",
    "        # Layer 2\n",
    "        layers.Conv2D(128, (3,3), activation='relu', padding='same'),\n",
    "        layers.MaxPooling2D((2,2)),\n",
    "        layers.BatchNormalization(),\n",
    "        layers.Dropout(0.3),\n",
    "        \n",
    "        # Layer 3: No final pooling\n",
    "        layers.Conv2D(256, (3,3), activation='relu', padding='same'),\n",
    "        layers.BatchNormalization(),\n",
    "        layers.Dropout(0.3),\n",
    "        \n",
    "        # Global pooling instead of flattening\n",
    "        layers.GlobalAveragePooling2D(),\n",
    "        \n",
    "        # Dense layers\n",
    "        layers.Dense(256, activation='relu', kernel_regularizer=tf.keras.regularizers.l2(0.001)),\n",
    "        layers.BatchNormalization(),\n",
    "        layers.Dropout(0.7),\n",
    "        \n",
    "        layers.Dense(num_classes, activation='softmax')\n",
    "    ])\n",
    "    \n",
    "    model.compile(optimizer='adam',\n",
    "                 loss='categorical_crossentropy',\n",
    "                 metrics=['accuracy'])\n",
    "    return model\n",
    "\n",
    "\n",
    "# Initialize model\n",
    "input_shape = X_train.shape[1:]\n",
    "num_classes = len(class_names)\n",
    "model = build_enhanced_cnn(input_shape, num_classes)\n",
    "model.summary()"
   ]
  },
  {
   "cell_type": "code",
   "execution_count": 34,
   "id": "5e163a19-4922-4693-952f-80a8d187c5f5",
   "metadata": {},
   "outputs": [],
   "source": [
    "from tensorflow.keras import callbacks"
   ]
  },
  {
   "cell_type": "code",
   "execution_count": 35,
   "id": "7663c27c-5e62-4703-8713-272defbfde17",
   "metadata": {},
   "outputs": [
    {
     "name": "stdout",
     "output_type": "stream",
     "text": [
      "Epoch 1/50\n",
      "100/100 [==============================] - 3s 20ms/step - loss: 3.5045 - accuracy: 0.1963 - val_loss: 2.4191 - val_accuracy: 0.2350 - lr: 0.0010\n",
      "Epoch 2/50\n",
      "100/100 [==============================] - 2s 17ms/step - loss: 3.1306 - accuracy: 0.2488 - val_loss: 2.0417 - val_accuracy: 0.3250 - lr: 0.0010\n",
      "Epoch 3/50\n",
      "100/100 [==============================] - 2s 18ms/step - loss: 2.8562 - accuracy: 0.2738 - val_loss: 2.3530 - val_accuracy: 0.2750 - lr: 0.0010\n",
      "Epoch 4/50\n",
      "100/100 [==============================] - 2s 17ms/step - loss: 2.7190 - accuracy: 0.2837 - val_loss: 2.1302 - val_accuracy: 0.4200 - lr: 0.0010\n",
      "Epoch 5/50\n",
      "100/100 [==============================] - 2s 17ms/step - loss: 2.4683 - accuracy: 0.3288 - val_loss: 2.0459 - val_accuracy: 0.3950 - lr: 0.0010\n",
      "Epoch 6/50\n",
      "100/100 [==============================] - 2s 17ms/step - loss: 2.5398 - accuracy: 0.3600 - val_loss: 1.8771 - val_accuracy: 0.4350 - lr: 0.0010\n",
      "Epoch 7/50\n",
      "100/100 [==============================] - 2s 17ms/step - loss: 2.3728 - accuracy: 0.3462 - val_loss: 2.0931 - val_accuracy: 0.4000 - lr: 0.0010\n",
      "Epoch 8/50\n",
      "100/100 [==============================] - 2s 18ms/step - loss: 2.2741 - accuracy: 0.3713 - val_loss: 1.7884 - val_accuracy: 0.3950 - lr: 0.0010\n",
      "Epoch 9/50\n",
      "100/100 [==============================] - 2s 18ms/step - loss: 2.1739 - accuracy: 0.3750 - val_loss: 1.6517 - val_accuracy: 0.4700 - lr: 0.0010\n",
      "Epoch 10/50\n",
      "100/100 [==============================] - 2s 18ms/step - loss: 2.1753 - accuracy: 0.3700 - val_loss: 1.6533 - val_accuracy: 0.4950 - lr: 0.0010\n",
      "Epoch 11/50\n",
      "100/100 [==============================] - 2s 17ms/step - loss: 2.0844 - accuracy: 0.3975 - val_loss: 2.0421 - val_accuracy: 0.4350 - lr: 0.0010\n",
      "Epoch 12/50\n",
      "100/100 [==============================] - 2s 18ms/step - loss: 1.9822 - accuracy: 0.4162 - val_loss: 1.4701 - val_accuracy: 0.6150 - lr: 0.0010\n",
      "Epoch 13/50\n",
      "100/100 [==============================] - 2s 17ms/step - loss: 1.9087 - accuracy: 0.4150 - val_loss: 1.6045 - val_accuracy: 0.5150 - lr: 0.0010\n",
      "Epoch 14/50\n",
      "100/100 [==============================] - 2s 17ms/step - loss: 1.9050 - accuracy: 0.4100 - val_loss: 1.6503 - val_accuracy: 0.4500 - lr: 0.0010\n",
      "Epoch 15/50\n",
      "100/100 [==============================] - 2s 17ms/step - loss: 1.8157 - accuracy: 0.4412 - val_loss: 1.6532 - val_accuracy: 0.5250 - lr: 0.0010\n",
      "Epoch 16/50\n",
      "100/100 [==============================] - 2s 17ms/step - loss: 1.7340 - accuracy: 0.4712 - val_loss: 1.8058 - val_accuracy: 0.4800 - lr: 0.0010\n",
      "Epoch 17/50\n",
      "100/100 [==============================] - 2s 17ms/step - loss: 1.7676 - accuracy: 0.4512 - val_loss: 1.4415 - val_accuracy: 0.5700 - lr: 0.0010\n",
      "Epoch 18/50\n",
      "100/100 [==============================] - 2s 17ms/step - loss: 1.6818 - accuracy: 0.4950 - val_loss: 1.5889 - val_accuracy: 0.5000 - lr: 0.0010\n",
      "Epoch 19/50\n",
      "100/100 [==============================] - 2s 17ms/step - loss: 1.7297 - accuracy: 0.4675 - val_loss: 2.9654 - val_accuracy: 0.3900 - lr: 0.0010\n",
      "Epoch 20/50\n",
      "100/100 [==============================] - 2s 17ms/step - loss: 1.6165 - accuracy: 0.5038 - val_loss: 1.5299 - val_accuracy: 0.5350 - lr: 0.0010\n",
      "Epoch 21/50\n",
      "100/100 [==============================] - 2s 17ms/step - loss: 1.5804 - accuracy: 0.5000 - val_loss: 2.0723 - val_accuracy: 0.4300 - lr: 0.0010\n",
      "Epoch 22/50\n",
      "100/100 [==============================] - 2s 17ms/step - loss: 1.6019 - accuracy: 0.5088 - val_loss: 1.5780 - val_accuracy: 0.4700 - lr: 0.0010\n",
      "Epoch 23/50\n",
      "100/100 [==============================] - 2s 17ms/step - loss: 1.4396 - accuracy: 0.5650 - val_loss: 1.4089 - val_accuracy: 0.5300 - lr: 2.0000e-04\n",
      "Epoch 24/50\n",
      "100/100 [==============================] - 2s 17ms/step - loss: 1.4437 - accuracy: 0.5638 - val_loss: 1.4024 - val_accuracy: 0.5750 - lr: 2.0000e-04\n",
      "Epoch 25/50\n",
      "100/100 [==============================] - 2s 17ms/step - loss: 1.4228 - accuracy: 0.5600 - val_loss: 1.7683 - val_accuracy: 0.5100 - lr: 2.0000e-04\n",
      "Epoch 26/50\n",
      "100/100 [==============================] - 2s 17ms/step - loss: 1.4231 - accuracy: 0.5763 - val_loss: 1.3137 - val_accuracy: 0.5900 - lr: 2.0000e-04\n",
      "Epoch 27/50\n",
      "100/100 [==============================] - 2s 18ms/step - loss: 1.4038 - accuracy: 0.5725 - val_loss: 1.5260 - val_accuracy: 0.5500 - lr: 2.0000e-04\n"
     ]
    }
   ],
   "source": [
    "# Step 10: Train Model with Callbacks\n",
    "callbacks = [\n",
    "    callbacks.EarlyStopping(patience=15, restore_best_weights=True, monitor='val_accuracy'),\n",
    "    callbacks.ReduceLROnPlateau(monitor='val_loss', factor=0.2, patience=5)\n",
    "]\n",
    "\n",
    "history = model.fit(\n",
    "    X_train, y_train,\n",
    "    validation_data=(X_val, y_val),\n",
    "    epochs=EPOCHS,\n",
    "    batch_size=BATCH_SIZE,\n",
    "    callbacks=callbacks,\n",
    "    class_weight=class_weight_dict\n",
    ")\n"
   ]
  },
  {
   "cell_type": "code",
   "execution_count": 36,
   "id": "5e1b71cb-7ad9-4e4a-baa9-32e9a7723b4d",
   "metadata": {},
   "outputs": [],
   "source": [
    "from sklearn.metrics import classification_report"
   ]
  },
  {
   "cell_type": "code",
   "execution_count": 37,
   "id": "501aece7-2ce8-4668-bba5-7559060459b2",
   "metadata": {},
   "outputs": [
    {
     "data": {
      "image/png": "[encoded data removed]",
      "text/plain": [
       "<Figure size 1200x500 with 2 Axes>"
      ]
     },
     "metadata": {},
     "output_type": "display_data"
    },
    {
     "name": "stdout",
     "output_type": "stream",
     "text": [
      "7/7 [==============================] - 1s 10ms/step\n",
      "              precision    recall  f1-score   support\n",
      "\n",
      "       blues       0.59      0.65      0.62        20\n",
      "   classical       0.86      0.95      0.90        20\n",
      "     country       0.57      0.40      0.47        20\n",
      "       disco       0.60      0.15      0.24        20\n",
      "      hiphop       0.55      0.80      0.65        20\n",
      "        jazz       0.60      0.45      0.51        20\n",
      "       metal       0.62      0.90      0.73        20\n",
      "         pop       0.62      0.80      0.70        20\n",
      "      reggae       0.67      0.70      0.68        20\n",
      "        rock       0.41      0.35      0.38        20\n",
      "\n",
      "    accuracy                           0.61       200\n",
      "   macro avg       0.61      0.61      0.59       200\n",
      "weighted avg       0.61      0.61      0.59       200\n",
      "\n"
     ]
    }
   ],
   "source": [
    "# Step 11: Evaluate Model\n",
    "# Plot training history\n",
    "plt.figure(figsize=(12, 5))\n",
    "plt.subplot(1, 2, 1)\n",
    "plt.plot(history.history['accuracy'], label='Train Accuracy')\n",
    "plt.plot(history.history['val_accuracy'], label='Validation Accuracy')\n",
    "plt.title('Model Accuracy')\n",
    "plt.ylabel('Accuracy')\n",
    "plt.xlabel('Epoch')\n",
    "plt.legend()\n",
    "\n",
    "plt.subplot(1, 2, 2)\n",
    "plt.plot(history.history['loss'], label='Train Loss')\n",
    "plt.plot(history.history['val_loss'], label='Validation Loss')\n",
    "plt.title('Model Loss')\n",
    "plt.ylabel('Loss')\n",
    "plt.xlabel('Epoch')\n",
    "plt.legend()\n",
    "plt.tight_layout()\n",
    "plt.show()\n",
    "\n",
    "# Classification report\n",
    "y_pred = model.predict(X_val)\n",
    "y_pred_classes = np.argmax(y_pred, axis=1)\n",
    "y_true_classes = np.argmax(y_val, axis=1)\n",
    "\n",
    "print(classification_report(\n",
    "    y_true_classes, y_pred_classes, \n",
    "    target_names=class_names\n",
    "))"
   ]
  },
  {
   "cell_type": "code",
   "execution_count": 38,
   "id": "7e5c85ac-09b0-4e77-9216-39f6bd06b926",
   "metadata": {},
   "outputs": [],
   "source": [
    "import joblib"
   ]
  },
  {
   "cell_type": "code",
   "execution_count": 39,
   "id": "c1cef077-bc81-4c03-8e50-614355fa587c",
   "metadata": {},
   "outputs": [
    {
     "name": "stdout",
     "output_type": "stream",
     "text": [
      "Model and label encoder saved.\n"
     ]
    }
   ],
   "source": [
    "# Step 12: Save Model\n",
    "model.save(\"optimized_music_genre_cnn.h5\")\n",
    "joblib.dump(label_encoder, \"label_encoder.pkl\")\n",
    "print(\"Model and label encoder saved.\")"
   ]
  },
  {
   "cell_type": "code",
   "execution_count": null,
   "id": "91e5b96f-1693-46ce-b0d3-5d2ab42fa1f7",
   "metadata": {},
   "outputs": [],
   "source": []
  }
 ],
 "metadata": {
  "kernelspec": {
   "display_name": "Python (tf-gpu-clean)",
   "language": "python",
   "name": "tf-gpu-clean"
  },
  "language_info": {
   "codemirror_mode": {
    "name": "ipython",
    "version": 3
   },
   "file_extension": ".py",
   "mimetype": "text/x-python",
   "name": "python",
   "nbconvert_exporter": "python",
   "pygments_lexer": "ipython3",
   "version": "3.10.18"
  }
 },
 "nbformat": 4,
 "nbformat_minor": 5
}
